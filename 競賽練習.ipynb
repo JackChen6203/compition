{
  "nbformat": 4,
  "nbformat_minor": 0,
  "metadata": {
    "colab": {
      "provenance": [],
      "authorship_tag": "ABX9TyOhie1YyvMoKfL0rKQc/8H8",
      "include_colab_link": true
    },
    "kernelspec": {
      "name": "python3",
      "display_name": "Python 3"
    },
    "language_info": {
      "name": "python"
    }
  },
  "cells": [
    {
      "cell_type": "markdown",
      "metadata": {
        "id": "view-in-github",
        "colab_type": "text"
      },
      "source": [
        "<a href=\"https://colab.research.google.com/github/JackChen6203/compition/blob/main/%E7%AB%B6%E8%B3%BD%E7%B7%B4%E7%BF%92.ipynb\" target=\"_parent\"><img src=\"https://colab.research.google.com/assets/colab-badge.svg\" alt=\"Open In Colab\"/></a>"
      ]
    },
    {
      "cell_type": "code",
      "source": [
        "import pandas as pd\n",
        "import chardet\n",
        "from tqdm import tqdm\n",
        "from google.colab import drive\n",
        "\n",
        "# 掛載 Google Drive\n",
        "drive.mount(\"/content/gdrive\")\n",
        "\n",
        "# 檔案路徑列表\n",
        "file_paths = [\n",
        "    \"/content/gdrive/My Drive/edu_bigdata_imp1.csv\",\n",
        "    \"/content/gdrive/My Drive/edu_bigdata_imp2.csv\",\n",
        "    \"/content/gdrive/My Drive/edu_bigdata_imp3.csv\",\n",
        "    \"/content/gdrive/My Drive/edu_bigdata_imp4.csv\",\n",
        "    \"/content/gdrive/My Drive/edu_bigdata_imp5.csv\"\n",
        "]\n",
        "\n",
        "# 讀取所有檔案並合併\n",
        "dfs = []\n",
        "for file_path in tqdm(file_paths, desc='Loading files', leave=True):\n",
        "    with open(file_path, 'rb') as f:\n",
        "        result = chardet.detect(f.read(10000))  # Detect encoding\n",
        "    try:\n",
        "        dfs.append(pd.read_csv(file_path, encoding=result['encoding']))\n",
        "    except pd.errors.ParserError as e:\n",
        "        print(f\"Error reading {file_path}: {e}\")\n",
        "\n",
        "df = pd.concat(dfs, axis=0, ignore_index=True)\n",
        "\n",
        "# 1.1\n",
        "record_1 = df[df['PseudoID'] == 1]\n",
        "unique_video_records_1 = len(record_1['dp001_video_item_sn'].unique())\n",
        "print(f\"1.1: {unique_video_records_1} 個不重複的影片瀏覽學習紀錄\")\n",
        "\n",
        "# 1.2\n",
        "unique_checkpoints_1 = len(record_1['dp001_question_sn'].dropna().unique())\n",
        "print(f\"1.2: {unique_checkpoints_1} 個不重複的檢核點作答\")\n",
        "\n",
        "# 2.1\n",
        "record_252 = df[df['PseudoID'] == 252]\n",
        "unique_videos_252 = record_252[['dp001_video_item_sn', 'dp001_indicator']].drop_duplicates()\n",
        "print(f\"2.1 252 號學生於 dp001 平台瀏覽過的不重複影片及其對應的能力指標如下:\")\n",
        "for index, row in unique_videos_252.iterrows():\n",
        "    print(f\"瀏覽過不重複影片 {row['dp001_video_item_sn']} 對應能力指標為 {row['dp001_indicator']}\")\n",
        "\n",
        "# 2.2\n",
        "correct_practice_252 = len(record_252[record_252['dp001_prac_binary_res'] == 1])\n",
        "print(f\"2.2: {correct_practice_252} 次練習題答對\")\n",
        "\n",
        "# 3.1\n",
        "record_28 = df[df['PseudoID'] == 28]\n",
        "pause_count_28 = len(record_28[record_28['dp001_record_plus_view_action'] == 'paused'])\n",
        "print(f\"3.1: {pause_count_28} 次「暫停」操作\")\n",
        "\n",
        "# 3.2\n",
        "record_28['dp001_review_start_time'] = pd.to_datetime(record_28['dp001_review_start_time'])\n",
        "unique_days_28 = record_28['dp001_review_start_time'].dt.date.unique()\n",
        "print(f\"3.2: {unique_days_28}\")\n",
        "\n",
        "# 4.1\n",
        "most_watched_video = df['dp001_video_item_sn'].value_counts().idxmax()\n",
        "print(f\"4.1: 最多影片瀏覽行為的影片序號是 {most_watched_video}\")\n",
        "\n",
        "# 4.2\n",
        "home_education_records = len(df[df['dp002_extensions_alignment'] == '家庭教育'])\n",
        "print(f\"4.2: {home_education_records} 筆資料\")\n",
        "\n",
        "# 4.3\n",
        "top3_actions = df['dp002_verb_display_zh_TW'].value_counts().head(3)\n",
        "print(f\"4.3: {top3_actions}\")\n",
        "\n",
        "# 4.4\n",
        "top_search_keyword = df['dp002_result_response'].value_counts().idxmax()\n",
        "top_search_count = df['dp002_result_response'].value_counts().max()\n",
        "print(f\"4.4: 關鍵字「{top_search_keyword}」搜索頻率最高，共有 {top_search_count} 筆\")\n"
      ],
      "metadata": {
        "colab": {
          "base_uri": "https://localhost:8080/"
        },
        "id": "GkvHVYGpeY62",
        "outputId": "1e48ec84-77c9-4099-9380-c9f7e79ccfb6"
      },
      "execution_count": 5,
      "outputs": [
        {
          "output_type": "stream",
          "name": "stdout",
          "text": [
            "Drive already mounted at /content/gdrive; to attempt to forcibly remount, call drive.mount(\"/content/gdrive\", force_remount=True).\n"
          ]
        },
        {
          "output_type": "stream",
          "name": "stderr",
          "text": [
            "\rLoading files:   0%|          | 0/5 [00:00<?, ?it/s]<ipython-input-5-be4b71848206>:24: DtypeWarning: Columns (16,29,30,31,32,33,34,35,36,37,38,39) have mixed types. Specify dtype option on import or set low_memory=False.\n",
            "  dfs.append(pd.read_csv(file_path, encoding=result['encoding']))\n",
            "Loading files:  20%|██        | 1/5 [00:03<00:13,  3.37s/it]<ipython-input-5-be4b71848206>:24: DtypeWarning: Columns (16,29,30,31,32,33,34,35,36,37,38,39) have mixed types. Specify dtype option on import or set low_memory=False.\n",
            "  dfs.append(pd.read_csv(file_path, encoding=result['encoding']))\n",
            "Loading files:  40%|████      | 2/5 [00:05<00:08,  2.87s/it]<ipython-input-5-be4b71848206>:24: DtypeWarning: Columns (16,29,30,31,32,33,34,35,36,37,38,39) have mixed types. Specify dtype option on import or set low_memory=False.\n",
            "  dfs.append(pd.read_csv(file_path, encoding=result['encoding']))\n",
            "Loading files:  60%|██████    | 3/5 [00:08<00:05,  2.73s/it]<ipython-input-5-be4b71848206>:24: DtypeWarning: Columns (16,29,30,31,32,33,34,35,36,37,38,39) have mixed types. Specify dtype option on import or set low_memory=False.\n",
            "  dfs.append(pd.read_csv(file_path, encoding=result['encoding']))\n",
            "Loading files:  80%|████████  | 4/5 [00:11<00:02,  2.66s/it]<ipython-input-5-be4b71848206>:24: DtypeWarning: Columns (16,29,30,31,32,33,34,35,36,37,38,39) have mixed types. Specify dtype option on import or set low_memory=False.\n",
            "  dfs.append(pd.read_csv(file_path, encoding=result['encoding']))\n",
            "Loading files: 100%|██████████| 5/5 [00:14<00:00,  3.00s/it]\n"
          ]
        },
        {
          "output_type": "stream",
          "name": "stdout",
          "text": [
            "1.1: 1 個不重複的影片瀏覽學習紀錄\n",
            "1.2: 0 個不重複的檢核點作答\n",
            "2.1 252 號學生於 dp001 平台瀏覽過的不重複影片及其對應的能力指標如下:\n",
            "瀏覽過不重複影片 1181.0 對應能力指標為 6-n-03-S01\n",
            "瀏覽過不重複影片 1184.0 對應能力指標為 6-n-04-S01\n",
            "2.2: 2470 次練習題答對\n",
            "3.1: 1820 次「暫停」操作\n",
            "3.2: [datetime.date(2022, 9, 20) datetime.date(2022, 9, 25)]\n",
            "4.1: 最多影片瀏覽行為的影片序號是 1172.0\n",
            "4.2: 0 筆資料\n",
            "4.3: 查看      633830\n",
            "查詢參考      7820\n",
            "下載        2485\n",
            "Name: dp002_verb_display_zh_TW, dtype: int64\n",
            "4.4: 關鍵字「翰林」搜索頻率最高，共有 440 筆\n"
          ]
        },
        {
          "output_type": "stream",
          "name": "stderr",
          "text": [
            "<ipython-input-5-be4b71848206>:56: SettingWithCopyWarning: \n",
            "A value is trying to be set on a copy of a slice from a DataFrame.\n",
            "Try using .loc[row_indexer,col_indexer] = value instead\n",
            "\n",
            "See the caveats in the documentation: https://pandas.pydata.org/pandas-docs/stable/user_guide/indexing.html#returning-a-view-versus-a-copy\n",
            "  record_28['dp001_review_start_time'] = pd.to_datetime(record_28['dp001_review_start_time'])\n"
          ]
        }
      ]
    }
  ]
}